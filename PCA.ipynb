{
 "cells": [
  {
   "cell_type": "code",
   "execution_count": 1,
   "metadata": {},
   "outputs": [],
   "source": [
    "import pandas as pd\n",
    "import numpy as np\n",
    "# NAIBE BAYES\n",
    "from sklearn.naive_bayes import GaussianNB\n",
    "# KNN\n",
    "from sklearn.neighbors import KNeighborsClassifier\n",
    "# RANDOM FOREST\n",
    "from sklearn.ensemble import RandomForestClassifier\n",
    "# LOGISTIC REGRESSION\n",
    "from sklearn.linear_model import LogisticRegression\n",
    "#SVM\n",
    "from sklearn.svm import SVC\n",
    "# DECISON TREE\n",
    "from sklearn.tree import DecisionTreeClassifier\n",
    "# XGBOOST\n",
    "from xgboost import XGBClassifier\n",
    "# AdaBoosting Classifier\n",
    "from sklearn.ensemble import AdaBoostClassifier\n",
    "# GradientBoosting Classifier\n",
    "from sklearn.ensemble import GradientBoostingClassifier\n",
    "# HistGradientBoostingClassifier\n",
    "from sklearn.experimental import enable_hist_gradient_boosting\n",
    "from sklearn.ensemble import HistGradientBoostingClassifier, StackingClassifier\n",
    "\n",
    "from sklearn.model_selection import StratifiedKFold, GridSearchCV, cross_val_score\n",
    "from sklearn.metrics import confusion_matrix\n",
    "from sklearn.model_selection import train_test_split\n",
    "import warnings\n",
    "import time\n",
    "import matplotlib.pyplot as plt\n",
    "from sklearn import preprocessing\n",
    "from sklearn.decomposition import PCA,FastICA"
   ]
  },
  {
   "cell_type": "code",
   "execution_count": 2,
   "metadata": {},
   "outputs": [],
   "source": [
    "#讀取CSV檔，將資料放入dataframe\n",
    "train = pd.read_csv(r'C:\\Users\\88691\\PycharmProjects\\hotel_predit\\data-question\\train.csv', header = 0)\n",
    "test = pd.read_csv(r'C:\\Users\\88691\\PycharmProjects\\hotel_predit\\data-question\\test.csv', header = 0)\n",
    "warnings.filterwarnings(\"ignore\")"
   ]
  },
  {
   "cell_type": "code",
   "execution_count": 3,
   "metadata": {},
   "outputs": [
    {
     "name": "stdout",
     "output_type": "stream",
     "text": [
      "        ID  Administrative  Administrative_Duration  Informational  \\\n",
      "0     8773               0                 0.000000              0   \n",
      "1     6709               0                 0.000000              0   \n",
      "2     1463               9               301.000000              0   \n",
      "3     4095               2                13.333333              0   \n",
      "4     3346               0                 0.000000              0   \n",
      "...    ...             ...                      ...            ...   \n",
      "8095  3758               0                 0.000000              0   \n",
      "8096  4437               1                15.200000              2   \n",
      "8097  7449               0                 0.000000              0   \n",
      "8098   665               9               183.785714              1   \n",
      "8099   552               3                49.750000              0   \n",
      "\n",
      "      Informational_Duration  ProductRelated  ProductRelated_Duration  \\\n",
      "0                        0.0               1                 0.000000   \n",
      "1                        0.0               1                 0.000000   \n",
      "2                        0.0              38              2621.621429   \n",
      "3                        0.0             105              2062.443592   \n",
      "4                        0.0              19               220.384849   \n",
      "...                      ...             ...                      ...   \n",
      "8095                     0.0               4                81.000000   \n",
      "8096                    62.6              84              4941.698611   \n",
      "8097                     0.0              25               701.883333   \n",
      "8098                    90.0              95              3346.501984   \n",
      "8099                     0.0              20               547.400794   \n",
      "\n",
      "      BounceRates  ExitRates  PageValues  SpecialDay  Month  OperatingSystems  \\\n",
      "0        0.200000   0.200000    0.000000         0.4      2               3.0   \n",
      "1        0.200000   0.200000    0.000000         0.0      9               1.0   \n",
      "2        0.021212   0.044508   10.721172         0.0      8               1.0   \n",
      "3        0.012205   0.020276    0.000000         0.6      2               5.0   \n",
      "4        0.010526   0.024642    0.000000         0.0      2               1.0   \n",
      "...           ...        ...         ...         ...    ...               ...   \n",
      "8095     0.000000   0.050000    0.000000         0.4      2               1.0   \n",
      "8096     0.017647   0.038706    0.000000         0.0      6               3.0   \n",
      "8097     0.000000   0.023333    0.000000         0.0      6               1.0   \n",
      "8098     0.002118   0.018656    5.932009         0.0      8               5.0   \n",
      "8099     0.000000   0.011688   15.065863         0.0      8               5.0   \n",
      "\n",
      "      Browser  Region  TrafficType  VisitorType  Weekend  Revenue  \n",
      "0        11.0     3.0          7.0          2.0        0        0  \n",
      "1        10.0     0.0          8.0          2.0        0        0  \n",
      "2        10.0     0.0         14.0          2.0        0        0  \n",
      "3        10.0     0.0          7.0          2.0        0        0  \n",
      "4         1.0     0.0          7.0          2.0        0        0  \n",
      "...       ...     ...          ...          ...      ...      ...  \n",
      "8095      1.0     5.0          7.0          2.0        0        0  \n",
      "8096     11.0     1.0          8.0          2.0        0        0  \n",
      "8097     10.0     0.0          4.0          2.0        0        0  \n",
      "8098     10.0     5.0          4.0          2.0        0        1  \n",
      "8099     10.0     8.0          4.0          2.0        0        1  \n",
      "\n",
      "[8100 rows x 19 columns]\n",
      "(8100, 19)\n",
      "                ID  Administrative  Administrative_Duration  Informational  \\\n",
      "count  8100.000000     8100.000000              8100.000000    8100.000000   \n",
      "mean   4500.375432        2.309877                80.926113       0.498025   \n",
      "std    2601.276244        3.311618               180.089694       1.258087   \n",
      "min       0.000000        0.000000                 0.000000       0.000000   \n",
      "25%    2237.750000        0.000000                 0.000000       0.000000   \n",
      "50%    4504.500000        1.000000                 7.000000       0.000000   \n",
      "75%    6760.250000        4.000000                91.988636       0.000000   \n",
      "max    8999.000000       27.000000              3398.750000      24.000000   \n",
      "\n",
      "       Informational_Duration  ProductRelated  ProductRelated_Duration  \\\n",
      "count             8100.000000     8100.000000             8.099000e+03   \n",
      "mean                32.884300       31.787160             8.311549e+04   \n",
      "std                135.210888       44.961092             6.359096e+06   \n",
      "min                  0.000000        0.000000             0.000000e+00   \n",
      "25%                  0.000000        7.000000             1.837708e+02   \n",
      "50%                  0.000000       18.000000             5.988738e+02   \n",
      "75%                  0.000000       38.000000             1.462142e+03   \n",
      "max               2549.375000      705.000000             5.634924e+08   \n",
      "\n",
      "       BounceRates    ExitRates   PageValues   SpecialDay        Month  \\\n",
      "count  8100.000000  8100.000000  8100.000000  8100.000000  8100.000000   \n",
      "mean      0.020345     0.042699     5.744406     0.060469     4.806049   \n",
      "std       0.131949     0.047943    17.940567     0.197809     3.175648   \n",
      "min     -11.000000     0.000000     0.000000     0.000000     0.000000   \n",
      "25%       0.000000     0.014286     0.000000     0.000000     2.000000   \n",
      "50%       0.003202     0.025129     0.000000     0.000000     4.000000   \n",
      "75%       0.016925     0.050000     0.000000     0.000000     8.000000   \n",
      "max       0.200000     0.200000   287.953793     1.000000    13.000000   \n",
      "\n",
      "       OperatingSystems      Browser       Region  TrafficType  VisitorType  \\\n",
      "count       8099.000000  8099.000000  8099.000000  8099.000000  8099.000000   \n",
      "mean           2.236202     7.782813     2.685146     7.669342     1.847389   \n",
      "std            1.654721     3.309934     2.668688     3.907496     0.377722   \n",
      "min            0.000000     0.000000     0.000000     0.000000     0.000000   \n",
      "25%            1.000000     3.000000     0.000000     4.000000     2.000000   \n",
      "50%            1.000000    10.000000     2.000000     8.000000     2.000000   \n",
      "75%            3.000000    10.000000     6.000000    12.000000     2.000000   \n",
      "max            7.000000    12.000000     8.000000    19.000000     2.000000   \n",
      "\n",
      "           Weekend      Revenue  \n",
      "count  8100.000000  8100.000000  \n",
      "mean      0.253210     0.157654  \n",
      "std       1.188062     0.364439  \n",
      "min       0.000000     0.000000  \n",
      "25%       0.000000     0.000000  \n",
      "50%       0.000000     0.000000  \n",
      "75%       0.000000     0.000000  \n",
      "max     100.000000     1.000000  \n",
      "ID                           int64\n",
      "Administrative               int64\n",
      "Administrative_Duration    float64\n",
      "Informational                int64\n",
      "Informational_Duration     float64\n",
      "ProductRelated               int64\n",
      "ProductRelated_Duration    float64\n",
      "BounceRates                float64\n",
      "ExitRates                  float64\n",
      "PageValues                 float64\n",
      "SpecialDay                 float64\n",
      "Month                        int64\n",
      "OperatingSystems           float64\n",
      "Browser                    float64\n",
      "Region                     float64\n",
      "TrafficType                float64\n",
      "VisitorType                float64\n",
      "Weekend                      int64\n",
      "Revenue                      int64\n",
      "dtype: object\n"
     ]
    }
   ],
   "source": [
    "#train資料集preprocessing\n",
    "#顯示資料集\n",
    "print(train)\n",
    "#顯示資料筆數\n",
    "print(train.shape)\n",
    "#顯示資料統計資訊\n",
    "print(train.describe())\n",
    "#顯示欄位屬性\n",
    "print(train.dtypes)"
   ]
  },
  {
   "cell_type": "code",
   "execution_count": 4,
   "metadata": {},
   "outputs": [
    {
     "name": "stdout",
     "output_type": "stream",
     "text": [
      "                         Total   Percent\n",
      "ProductRelated_Duration      1  0.000123\n",
      "VisitorType                  1  0.000123\n",
      "TrafficType                  1  0.000123\n",
      "Region                       1  0.000123\n",
      "Browser                      1  0.000123\n",
      "OperatingSystems             1  0.000123\n",
      "Revenue                      0  0.000000\n",
      "Administrative               0  0.000000\n",
      "Administrative_Duration      0  0.000000\n",
      "Informational                0  0.000000\n",
      "Informational_Duration       0  0.000000\n",
      "ProductRelated               0  0.000000\n",
      "PageValues                   0  0.000000\n",
      "BounceRates                  0  0.000000\n",
      "ExitRates                    0  0.000000\n",
      "Weekend                      0  0.000000\n",
      "SpecialDay                   0  0.000000\n",
      "Month                        0  0.000000\n",
      "ID                           0  0.000000\n"
     ]
    }
   ],
   "source": [
    "#檢查是train否具有遺漏值\n",
    "total = train.isnull().sum().sort_values(ascending=False)\n",
    "percent = (train.isnull().sum() / train.isnull().count()).sort_values(ascending=False)\n",
    "missing_data = pd.concat([total, percent], axis=1, keys=['Total', 'Percent'])\n",
    "print(missing_data)"
   ]
  },
  {
   "cell_type": "code",
   "execution_count": 5,
   "metadata": {},
   "outputs": [
    {
     "name": "stdout",
     "output_type": "stream",
     "text": [
      "        ID  Administrative  Administrative_Duration  Informational  \\\n",
      "0     8773               0                 0.000000              0   \n",
      "1     6709               0                 0.000000              0   \n",
      "2     1463               9               301.000000              0   \n",
      "3     4095               2                13.333333              0   \n",
      "4     3346               0                 0.000000              0   \n",
      "...    ...             ...                      ...            ...   \n",
      "8095  3758               0                 0.000000              0   \n",
      "8096  4437               1                15.200000              2   \n",
      "8097  7449               0                 0.000000              0   \n",
      "8098   665               9               183.785714              1   \n",
      "8099   552               3                49.750000              0   \n",
      "\n",
      "      Informational_Duration  ProductRelated  ProductRelated_Duration  \\\n",
      "0                        0.0               1                 0.000000   \n",
      "1                        0.0               1                 0.000000   \n",
      "2                        0.0              38              2621.621429   \n",
      "3                        0.0             105              2062.443592   \n",
      "4                        0.0              19               220.384849   \n",
      "...                      ...             ...                      ...   \n",
      "8095                     0.0               4                81.000000   \n",
      "8096                    62.6              84              4941.698611   \n",
      "8097                     0.0              25               701.883333   \n",
      "8098                    90.0              95              3346.501984   \n",
      "8099                     0.0              20               547.400794   \n",
      "\n",
      "      BounceRates  ExitRates  PageValues  SpecialDay  Month  OperatingSystems  \\\n",
      "0        0.200000   0.200000    0.000000         0.4      2               3.0   \n",
      "1        0.200000   0.200000    0.000000         0.0      9               1.0   \n",
      "2        0.021212   0.044508   10.721172         0.0      8               1.0   \n",
      "3        0.012205   0.020276    0.000000         0.6      2               5.0   \n",
      "4        0.010526   0.024642    0.000000         0.0      2               1.0   \n",
      "...           ...        ...         ...         ...    ...               ...   \n",
      "8095     0.000000   0.050000    0.000000         0.4      2               1.0   \n",
      "8096     0.017647   0.038706    0.000000         0.0      6               3.0   \n",
      "8097     0.000000   0.023333    0.000000         0.0      6               1.0   \n",
      "8098     0.002118   0.018656    5.932009         0.0      8               5.0   \n",
      "8099     0.000000   0.011688   15.065863         0.0      8               5.0   \n",
      "\n",
      "      Browser  Region  TrafficType  VisitorType  Weekend  Revenue  \n",
      "0        11.0     3.0          7.0          2.0        0        0  \n",
      "1        10.0     0.0          8.0          2.0        0        0  \n",
      "2        10.0     0.0         14.0          2.0        0        0  \n",
      "3        10.0     0.0          7.0          2.0        0        0  \n",
      "4         1.0     0.0          7.0          2.0        0        0  \n",
      "...       ...     ...          ...          ...      ...      ...  \n",
      "8095      1.0     5.0          7.0          2.0        0        0  \n",
      "8096     11.0     1.0          8.0          2.0        0        0  \n",
      "8097     10.0     0.0          4.0          2.0        0        0  \n",
      "8098     10.0     5.0          4.0          2.0        0        1  \n",
      "8099     10.0     8.0          4.0          2.0        0        1  \n",
      "\n",
      "[8097 rows x 19 columns]\n"
     ]
    }
   ],
   "source": [
    "# 發現遺漏值欄位為類別變數，且資料筆數佔比遠小於1%，故刪除含有NA的樣本\n",
    "train_new = train.dropna()\n",
    "print(train_new)"
   ]
  },
  {
   "cell_type": "code",
   "execution_count": 6,
   "metadata": {},
   "outputs": [
    {
     "name": "stdout",
     "output_type": "stream",
     "text": [
      "        ID  Administrative  Administrative_Duration  Informational  \\\n",
      "0     8773               0                 0.000000              0   \n",
      "1     6709               0                 0.000000              0   \n",
      "2     1463               9               301.000000              0   \n",
      "3     4095               2                13.333333              0   \n",
      "4     3346               0                 0.000000              0   \n",
      "...    ...             ...                      ...            ...   \n",
      "8095  3758               0                 0.000000              0   \n",
      "8096  4437               1                15.200000              2   \n",
      "8097  7449               0                 0.000000              0   \n",
      "8098   665               9               183.785714              1   \n",
      "8099   552               3                49.750000              0   \n",
      "\n",
      "      Informational_Duration  ProductRelated  ProductRelated_Duration  \\\n",
      "0                        0.0               1                 0.000000   \n",
      "1                        0.0               1                 0.000000   \n",
      "2                        0.0              38              2621.621429   \n",
      "3                        0.0             105              2062.443592   \n",
      "4                        0.0              19               220.384849   \n",
      "...                      ...             ...                      ...   \n",
      "8095                     0.0               4                81.000000   \n",
      "8096                    62.6              84              4941.698611   \n",
      "8097                     0.0              25               701.883333   \n",
      "8098                    90.0              95              3346.501984   \n",
      "8099                     0.0              20               547.400794   \n",
      "\n",
      "      BounceRates  ExitRates  PageValues  SpecialDay  Month  OperatingSystems  \\\n",
      "0        0.200000   0.200000    0.000000         0.4      2               3.0   \n",
      "1        0.200000   0.200000    0.000000         0.0      9               1.0   \n",
      "2        0.021212   0.044508   10.721172         0.0      8               1.0   \n",
      "3        0.012205   0.020276    0.000000         0.6      2               5.0   \n",
      "4        0.010526   0.024642    0.000000         0.0      2               1.0   \n",
      "...           ...        ...         ...         ...    ...               ...   \n",
      "8095     0.000000   0.050000    0.000000         0.4      2               1.0   \n",
      "8096     0.017647   0.038706    0.000000         0.0      6               3.0   \n",
      "8097     0.000000   0.023333    0.000000         0.0      6               1.0   \n",
      "8098     0.002118   0.018656    5.932009         0.0      8               5.0   \n",
      "8099     0.000000   0.011688   15.065863         0.0      8               5.0   \n",
      "\n",
      "      Browser  Region  TrafficType  VisitorType  Weekend  Revenue  \n",
      "0        11.0     3.0          7.0          2.0        0        0  \n",
      "1        10.0     0.0          8.0          2.0        0        0  \n",
      "2        10.0     0.0         14.0          2.0        0        0  \n",
      "3        10.0     0.0          7.0          2.0        0        0  \n",
      "4         1.0     0.0          7.0          2.0        0        0  \n",
      "...       ...     ...          ...          ...      ...      ...  \n",
      "8095      1.0     5.0          7.0          2.0        0        0  \n",
      "8096     11.0     1.0          8.0          2.0        0        0  \n",
      "8097     10.0     0.0          4.0          2.0        0        0  \n",
      "8098     10.0     5.0          4.0          2.0        0        1  \n",
      "8099     10.0     8.0          4.0          2.0        0        1  \n",
      "\n",
      "[8095 rows x 19 columns]\n"
     ]
    }
   ],
   "source": [
    "#初步觀察統計資訊，發現最小值有負數，刪除不合理的樣本(機率應介於0~1之間)\n",
    "train_new[train_new < 0] = np.nan\n",
    "train_new = train_new.dropna()\n",
    "print(train_new)"
   ]
  },
  {
   "cell_type": "code",
   "execution_count": 7,
   "metadata": {},
   "outputs": [
    {
     "name": "stdout",
     "output_type": "stream",
     "text": [
      "      Administrative  Administrative_Duration  Informational  \\\n",
      "0                  0                 0.000000              0   \n",
      "1                  0                 0.000000              0   \n",
      "2                  9               301.000000              0   \n",
      "3                  2                13.333333              0   \n",
      "4                  0                 0.000000              0   \n",
      "...              ...                      ...            ...   \n",
      "8095               0                 0.000000              0   \n",
      "8096               1                15.200000              2   \n",
      "8097               0                 0.000000              0   \n",
      "8098               9               183.785714              1   \n",
      "8099               3                49.750000              0   \n",
      "\n",
      "      Informational_Duration  ProductRelated  ProductRelated_Duration  \\\n",
      "0                        0.0               1                 0.000000   \n",
      "1                        0.0               1                 0.000000   \n",
      "2                        0.0              38              2621.621429   \n",
      "3                        0.0             105              2062.443592   \n",
      "4                        0.0              19               220.384849   \n",
      "...                      ...             ...                      ...   \n",
      "8095                     0.0               4                81.000000   \n",
      "8096                    62.6              84              4941.698611   \n",
      "8097                     0.0              25               701.883333   \n",
      "8098                    90.0              95              3346.501984   \n",
      "8099                     0.0              20               547.400794   \n",
      "\n",
      "      BounceRates  ExitRates  PageValues  SpecialDay  Month  OperatingSystems  \\\n",
      "0        0.200000   0.200000    0.000000         0.4      2               3.0   \n",
      "1        0.200000   0.200000    0.000000         0.0      9               1.0   \n",
      "2        0.021212   0.044508   10.721172         0.0      8               1.0   \n",
      "3        0.012205   0.020276    0.000000         0.6      2               5.0   \n",
      "4        0.010526   0.024642    0.000000         0.0      2               1.0   \n",
      "...           ...        ...         ...         ...    ...               ...   \n",
      "8095     0.000000   0.050000    0.000000         0.4      2               1.0   \n",
      "8096     0.017647   0.038706    0.000000         0.0      6               3.0   \n",
      "8097     0.000000   0.023333    0.000000         0.0      6               1.0   \n",
      "8098     0.002118   0.018656    5.932009         0.0      8               5.0   \n",
      "8099     0.000000   0.011688   15.065863         0.0      8               5.0   \n",
      "\n",
      "      Browser  Region  TrafficType  VisitorType  Weekend  Revenue  \n",
      "0        11.0     3.0          7.0          2.0        0        0  \n",
      "1        10.0     0.0          8.0          2.0        0        0  \n",
      "2        10.0     0.0         14.0          2.0        0        0  \n",
      "3        10.0     0.0          7.0          2.0        0        0  \n",
      "4         1.0     0.0          7.0          2.0        0        0  \n",
      "...       ...     ...          ...          ...      ...      ...  \n",
      "8095      1.0     5.0          7.0          2.0        0        0  \n",
      "8096     11.0     1.0          8.0          2.0        0        0  \n",
      "8097     10.0     0.0          4.0          2.0        0        0  \n",
      "8098     10.0     5.0          4.0          2.0        0        1  \n",
      "8099     10.0     8.0          4.0          2.0        0        1  \n",
      "\n",
      "[8095 rows x 18 columns]\n"
     ]
    }
   ],
   "source": [
    "#刪除ID欄位\n",
    "train_new = train_new.drop('ID', axis= 1)\n",
    "print(train_new)"
   ]
  },
  {
   "cell_type": "code",
   "execution_count": 8,
   "metadata": {},
   "outputs": [
    {
     "data": {
      "image/png": "[encoded data removed]",
      "text/plain": [
       "<Figure size 432x288 with 1 Axes>"
      ]
     },
     "metadata": {
      "needs_background": "light"
     },
     "output_type": "display_data"
    },
    {
     "data": {
      "image/png": "[encoded data removed]",
      "text/plain": [
       "<Figure size 432x288 with 1 Axes>"
      ]
     },
     "metadata": {
      "needs_background": "light"
     },
     "output_type": "display_data"
    },
    {
     "data": {
      "image/png": "[encoded data removed]",
      "text/plain": [
       "<Figure size 432x288 with 1 Axes>"
      ]
     },
     "metadata": {
      "needs_background": "light"
     },
     "output_type": "display_data"
    },
    {
     "data": {
      "image/png": "[encoded data removed]",
      "text/plain": [
       "<Figure size 432x288 with 1 Axes>"
      ]
     },
     "metadata": {
      "needs_background": "light"
     },
     "output_type": "display_data"
    },
    {
     "data": {
      "image/png": "[encoded data removed]",
      "text/plain": [
       "<Figure size 432x288 with 1 Axes>"
      ]
     },
     "metadata": {
      "needs_background": "light"
     },
     "output_type": "display_data"
    },
    {
     "data": {
      "image/png": "[encoded data removed]",
      "text/plain": [
       "<Figure size 432x288 with 1 Axes>"
      ]
     },
     "metadata": {
      "needs_background": "light"
     },
     "output_type": "display_data"
    },
    {
     "data": {
      "image/png": "[encoded data removed]",
      "text/plain": [
       "<Figure size 432x288 with 1 Axes>"
      ]
     },
     "metadata": {
      "needs_background": "light"
     },
     "output_type": "display_data"
    },
    {
     "data": {
      "image/png": "[encoded data removed]",
      "text/plain": [
       "<Figure size 432x288 with 1 Axes>"
      ]
     },
     "metadata": {
      "needs_background": "light"
     },
     "output_type": "display_data"
    },
    {
     "data": {
      "image/png": "[encoded data removed]",
      "text/plain": [
       "<Figure size 432x288 with 1 Axes>"
      ]
     },
     "metadata": {
      "needs_background": "light"
     },
     "output_type": "display_data"
    },
    {
     "data": {
      "image/png": "[encoded data removed]",
      "text/plain": [
       "<Figure size 432x288 with 1 Axes>"
      ]
     },
     "metadata": {
      "needs_background": "light"
     },
     "output_type": "display_data"
    },
    {
     "data": {
      "image/png": "[encoded data removed]",
      "text/plain": [
       "<Figure size 432x288 with 1 Axes>"
      ]
     },
     "metadata": {
      "needs_background": "light"
     },
     "output_type": "display_data"
    },
    {
     "data": {
      "image/png": "[encoded data removed]",
      "text/plain": [
       "<Figure size 432x288 with 1 Axes>"
      ]
     },
     "metadata": {
      "needs_background": "light"
     },
     "output_type": "display_data"
    },
    {
     "data": {
      "image/png": "[encoded data removed]",
      "text/plain": [
       "<Figure size 432x288 with 1 Axes>"
      ]
     },
     "metadata": {
      "needs_background": "light"
     },
     "output_type": "display_data"
    },
    {
     "data": {
      "image/png": "[encoded data removed]",
      "text/plain": [
       "<Figure size 432x288 with 1 Axes>"
      ]
     },
     "metadata": {
      "needs_background": "light"
     },
     "output_type": "display_data"
    },
    {
     "data": {
      "image/png": "[encoded data removed]",
      "text/plain": [
       "<Figure size 432x288 with 1 Axes>"
      ]
     },
     "metadata": {
      "needs_background": "light"
     },
     "output_type": "display_data"
    },
    {
     "data": {
      "image/png": "[encoded data removed]",
      "text/plain": [
       "<Figure size 432x288 with 1 Axes>"
      ]
     },
     "metadata": {
      "needs_background": "light"
     },
     "output_type": "display_data"
    },
    {
     "data": {
      "image/png": "[encoded data removed]",
      "text/plain": [
       "<Figure size 432x288 with 1 Axes>"
      ]
     },
     "metadata": {
      "needs_background": "light"
     },
     "output_type": "display_data"
    },
    {
     "data": {
      "image/png": "[encoded data removed]",
      "text/plain": [
       "<Figure size 432x288 with 1 Axes>"
      ]
     },
     "metadata": {
      "needs_background": "light"
     },
     "output_type": "display_data"
    }
   ],
   "source": [
    "#將各欄位視覺化(直方圖) \n",
    "for i in train_new.columns:\n",
    "    plt.hist(train_new[i], density=False, color = 'lightblue', cumulative = False, label = [i]) #train_new['ID']=train_new.ID\n",
    "    plt.legend()\n",
    "    plt.xlabel('{}(\")'.format(i))\n",
    "    plt.show()"
   ]
  },
  {
   "cell_type": "code",
   "execution_count": 9,
   "metadata": {},
   "outputs": [
    {
     "data": {
      "image/png": "[encoded data removed]",
      "text/plain": [
       "<Figure size 432x288 with 1 Axes>"
      ]
     },
     "metadata": {
      "needs_background": "light"
     },
     "output_type": "display_data"
    },
    {
     "data": {
      "image/png": "[encoded data removed]",
      "text/plain": [
       "<Figure size 432x288 with 1 Axes>"
      ]
     },
     "metadata": {
      "needs_background": "light"
     },
     "output_type": "display_data"
    },
    {
     "data": {
      "image/png": "[encoded data removed]",
      "text/plain": [
       "<Figure size 432x288 with 1 Axes>"
      ]
     },
     "metadata": {
      "needs_background": "light"
     },
     "output_type": "display_data"
    },
    {
     "data": {
      "image/png": "[encoded data removed]",
      "text/plain": [
       "<Figure size 432x288 with 1 Axes>"
      ]
     },
     "metadata": {
      "needs_background": "light"
     },
     "output_type": "display_data"
    },
    {
     "data": {
      "image/png": "[encoded data removed]",
      "text/plain": [
       "<Figure size 432x288 with 1 Axes>"
      ]
     },
     "metadata": {
      "needs_background": "light"
     },
     "output_type": "display_data"
    },
    {
     "data": {
      "image/png": "[encoded data removed]",
      "text/plain": [
       "<Figure size 432x288 with 1 Axes>"
      ]
     },
     "metadata": {
      "needs_background": "light"
     },
     "output_type": "display_data"
    },
    {
     "data": {
      "image/png": "[encoded data removed]",
      "text/plain": [
       "<Figure size 432x288 with 1 Axes>"
      ]
     },
     "metadata": {
      "needs_background": "light"
     },
     "output_type": "display_data"
    },
    {
     "data": {
      "image/png": "[encoded data removed]",
      "text/plain": [
       "<Figure size 432x288 with 1 Axes>"
      ]
     },
     "metadata": {
      "needs_background": "light"
     },
     "output_type": "display_data"
    },
    {
     "data": {
      "image/png": "[encoded data removed]",
      "text/plain": [
       "<Figure size 432x288 with 1 Axes>"
      ]
     },
     "metadata": {
      "needs_background": "light"
     },
     "output_type": "display_data"
    },
    {
     "data": {
      "image/png": "[encoded data removed]",
      "text/plain": [
       "<Figure size 432x288 with 1 Axes>"
      ]
     },
     "metadata": {
      "needs_background": "light"
     },
     "output_type": "display_data"
    },
    {
     "data": {
      "image/png": "[encoded data removed]",
      "text/plain": [
       "<Figure size 432x288 with 1 Axes>"
      ]
     },
     "metadata": {
      "needs_background": "light"
     },
     "output_type": "display_data"
    },
    {
     "data": {
      "image/png": "[encoded data removed]",
      "text/plain": [
       "<Figure size 432x288 with 1 Axes>"
      ]
     },
     "metadata": {
      "needs_background": "light"
     },
     "output_type": "display_data"
    },
    {
     "data": {
      "image/png": "[encoded data removed]",
      "text/plain": [
       "<Figure size 432x288 with 1 Axes>"
      ]
     },
     "metadata": {
      "needs_background": "light"
     },
     "output_type": "display_data"
    },
    {
     "data": {
      "image/png": "[encoded data removed]",
      "text/plain": [
       "<Figure size 432x288 with 1 Axes>"
      ]
     },
     "metadata": {
      "needs_background": "light"
     },
     "output_type": "display_data"
    },
    {
     "data": {
      "image/png": "[encoded data removed]",
      "text/plain": [
       "<Figure size 432x288 with 1 Axes>"
      ]
     },
     "metadata": {
      "needs_background": "light"
     },
     "output_type": "display_data"
    },
    {
     "data": {
      "image/png": "[encoded data removed]",
      "text/plain": [
       "<Figure size 432x288 with 1 Axes>"
      ]
     },
     "metadata": {
      "needs_background": "light"
     },
     "output_type": "display_data"
    },
    {
     "data": {
      "image/png": "[encoded data removed]",
      "text/plain": [
       "<Figure size 432x288 with 1 Axes>"
      ]
     },
     "metadata": {
      "needs_background": "light"
     },
     "output_type": "display_data"
    },
    {
     "data": {
      "image/png": "[encoded data removed]",
      "text/plain": [
       "<Figure size 432x288 with 1 Axes>"
      ]
     },
     "metadata": {
      "needs_background": "light"
     },
     "output_type": "display_data"
    }
   ],
   "source": [
    "#將各欄位視覺化(盒鬚圖) \n",
    "#觀察發現異常值Month有一筆13；Weekend有一筆100\n",
    "for i in train_new.columns:\n",
    "    plt.boxplot(train_new[i], sym='rd')\n",
    "    plt.xlabel('{}(\")'.format(i))\n",
    "    plt.show()"
   ]
  },
  {
   "cell_type": "code",
   "execution_count": 10,
   "metadata": {},
   "outputs": [
    {
     "name": "stdout",
     "output_type": "stream",
     "text": [
      "      Administrative  Administrative_Duration  Informational  \\\n",
      "0                0.0                 0.000000            0.0   \n",
      "1                0.0                 0.000000            0.0   \n",
      "2                9.0               301.000000            0.0   \n",
      "3                2.0                13.333333            0.0   \n",
      "4                0.0                 0.000000            0.0   \n",
      "...              ...                      ...            ...   \n",
      "8095             0.0                 0.000000            0.0   \n",
      "8096             1.0                15.200000            2.0   \n",
      "8097             0.0                 0.000000            0.0   \n",
      "8098             9.0               183.785714            1.0   \n",
      "8099             3.0                49.750000            0.0   \n",
      "\n",
      "      Informational_Duration  ProductRelated  ProductRelated_Duration  \\\n",
      "0                        0.0             1.0                 0.000000   \n",
      "1                        0.0             1.0                 0.000000   \n",
      "2                        0.0            38.0              2621.621429   \n",
      "3                        0.0           105.0              2062.443592   \n",
      "4                        0.0            19.0               220.384849   \n",
      "...                      ...             ...                      ...   \n",
      "8095                     0.0             4.0                81.000000   \n",
      "8096                    62.6            84.0              4941.698611   \n",
      "8097                     0.0            25.0               701.883333   \n",
      "8098                    90.0            95.0              3346.501984   \n",
      "8099                     0.0            20.0               547.400794   \n",
      "\n",
      "      BounceRates  ExitRates  PageValues  SpecialDay  Month  OperatingSystems  \\\n",
      "0        0.200000   0.200000    0.000000         0.4    2.0               3.0   \n",
      "1        0.200000   0.200000    0.000000         0.0    9.0               1.0   \n",
      "2        0.021212   0.044508   10.721172         0.0    8.0               1.0   \n",
      "3        0.012205   0.020276    0.000000         0.6    2.0               5.0   \n",
      "4        0.010526   0.024642    0.000000         0.0    2.0               1.0   \n",
      "...           ...        ...         ...         ...    ...               ...   \n",
      "8095     0.000000   0.050000    0.000000         0.4    2.0               1.0   \n",
      "8096     0.017647   0.038706    0.000000         0.0    6.0               3.0   \n",
      "8097     0.000000   0.023333    0.000000         0.0    6.0               1.0   \n",
      "8098     0.002118   0.018656    5.932009         0.0    8.0               5.0   \n",
      "8099     0.000000   0.011688   15.065863         0.0    8.0               5.0   \n",
      "\n",
      "      Browser  Region  TrafficType  VisitorType  Weekend  Revenue  \n",
      "0        11.0     3.0          7.0          2.0      0.0      0.0  \n",
      "1        10.0     0.0          8.0          2.0      0.0      0.0  \n",
      "2        10.0     0.0         14.0          2.0      0.0      0.0  \n",
      "3        10.0     0.0          7.0          2.0      0.0      0.0  \n",
      "4         1.0     0.0          7.0          2.0      0.0      0.0  \n",
      "...       ...     ...          ...          ...      ...      ...  \n",
      "8095      1.0     5.0          7.0          2.0      0.0      0.0  \n",
      "8096     11.0     1.0          8.0          2.0      0.0      0.0  \n",
      "8097     10.0     0.0          4.0          2.0      0.0      0.0  \n",
      "8098     10.0     5.0          4.0          2.0      0.0      1.0  \n",
      "8099     10.0     8.0          4.0          2.0      0.0      1.0  \n",
      "\n",
      "[8093 rows x 18 columns]\n"
     ]
    }
   ],
   "source": [
    "#將異常值替換成NA，再以.dropna刪除該列\n",
    "train_new[train_new['Month'] == 13] = np.nan\n",
    "train_new[train_new['Weekend'] == 100] = np.nan\n",
    "train_new = train_new.dropna()\n",
    "print(train_new)"
   ]
  },
  {
   "cell_type": "code",
   "execution_count": 11,
   "metadata": {},
   "outputs": [
    {
     "name": "stdout",
     "output_type": "stream",
     "text": [
      "      SpecialDay  Month  OperatingSystems  Browser  Region  TrafficType  \\\n",
      "0            0.4    2.0               3.0     11.0     3.0          7.0   \n",
      "1            0.0    9.0               1.0     10.0     0.0          8.0   \n",
      "2            0.0    8.0               1.0     10.0     0.0         14.0   \n",
      "3            0.6    2.0               5.0     10.0     0.0          7.0   \n",
      "4            0.0    2.0               1.0      1.0     0.0          7.0   \n",
      "...          ...    ...               ...      ...     ...          ...   \n",
      "8095         0.4    2.0               1.0      1.0     5.0          7.0   \n",
      "8096         0.0    6.0               3.0     11.0     1.0          8.0   \n",
      "8097         0.0    6.0               1.0     10.0     0.0          4.0   \n",
      "8098         0.0    8.0               5.0     10.0     5.0          4.0   \n",
      "8099         0.0    8.0               5.0     10.0     8.0          4.0   \n",
      "\n",
      "      VisitorType  Weekend  \n",
      "0             2.0      0.0  \n",
      "1             2.0      0.0  \n",
      "2             2.0      0.0  \n",
      "3             2.0      0.0  \n",
      "4             2.0      0.0  \n",
      "...           ...      ...  \n",
      "8095          2.0      0.0  \n",
      "8096          2.0      0.0  \n",
      "8097          2.0      0.0  \n",
      "8098          2.0      0.0  \n",
      "8099          2.0      0.0  \n",
      "\n",
      "[8093 rows x 8 columns]\n",
      "      index  SpecialDay  Month  OperatingSystems  Browser  Region  \\\n",
      "0         0         0.4    2.0               3.0     11.0     3.0   \n",
      "1         1         0.0    9.0               1.0     10.0     0.0   \n",
      "2         2         0.0    8.0               1.0     10.0     0.0   \n",
      "3         3         0.6    2.0               5.0     10.0     0.0   \n",
      "4         4         0.0    2.0               1.0      1.0     0.0   \n",
      "...     ...         ...    ...               ...      ...     ...   \n",
      "8088   8095         0.4    2.0               1.0      1.0     5.0   \n",
      "8089   8096         0.0    6.0               3.0     11.0     1.0   \n",
      "8090   8097         0.0    6.0               1.0     10.0     0.0   \n",
      "8091   8098         0.0    8.0               5.0     10.0     5.0   \n",
      "8092   8099         0.0    8.0               5.0     10.0     8.0   \n",
      "\n",
      "      TrafficType  VisitorType  Weekend  \n",
      "0             7.0          2.0      0.0  \n",
      "1             8.0          2.0      0.0  \n",
      "2            14.0          2.0      0.0  \n",
      "3             7.0          2.0      0.0  \n",
      "4             7.0          2.0      0.0  \n",
      "...           ...          ...      ...  \n",
      "8088          7.0          2.0      0.0  \n",
      "8089          8.0          2.0      0.0  \n",
      "8090          4.0          2.0      0.0  \n",
      "8091          4.0          2.0      0.0  \n",
      "8092          4.0          2.0      0.0  \n",
      "\n",
      "[8093 rows x 9 columns]\n"
     ]
    }
   ],
   "source": [
    "#將類別特徵欄位數據獨立出來(無法進行標準化)\n",
    "train_new_cate = train_new.iloc[:, 9:17]\n",
    "print(train_new_cate)\n",
    "#刪除列資料後index非連續，影響資料標準化之後的欄位合併，故重新定義index\n",
    "train_new_cate_sort = train_new_cate.reset_index()\n",
    "print(train_new_cate_sort)"
   ]
  },
  {
   "cell_type": "code",
   "execution_count": 12,
   "metadata": {},
   "outputs": [
    {
     "name": "stdout",
     "output_type": "stream",
     "text": [
      "      Administrative  Administrative_Duration  Informational  \\\n",
      "0                0.0                 0.000000            0.0   \n",
      "1                0.0                 0.000000            0.0   \n",
      "2                9.0               301.000000            0.0   \n",
      "3                2.0                13.333333            0.0   \n",
      "4                0.0                 0.000000            0.0   \n",
      "...              ...                      ...            ...   \n",
      "8095             0.0                 0.000000            0.0   \n",
      "8096             1.0                15.200000            2.0   \n",
      "8097             0.0                 0.000000            0.0   \n",
      "8098             9.0               183.785714            1.0   \n",
      "8099             3.0                49.750000            0.0   \n",
      "\n",
      "      Informational_Duration  ProductRelated  ProductRelated_Duration  \\\n",
      "0                        0.0             1.0                 0.000000   \n",
      "1                        0.0             1.0                 0.000000   \n",
      "2                        0.0            38.0              2621.621429   \n",
      "3                        0.0           105.0              2062.443592   \n",
      "4                        0.0            19.0               220.384849   \n",
      "...                      ...             ...                      ...   \n",
      "8095                     0.0             4.0                81.000000   \n",
      "8096                    62.6            84.0              4941.698611   \n",
      "8097                     0.0            25.0               701.883333   \n",
      "8098                    90.0            95.0              3346.501984   \n",
      "8099                     0.0            20.0               547.400794   \n",
      "\n",
      "      BounceRates  ExitRates  PageValues  Revenue  \n",
      "0        0.200000   0.200000    0.000000      0.0  \n",
      "1        0.200000   0.200000    0.000000      0.0  \n",
      "2        0.021212   0.044508   10.721172      0.0  \n",
      "3        0.012205   0.020276    0.000000      0.0  \n",
      "4        0.010526   0.024642    0.000000      0.0  \n",
      "...           ...        ...         ...      ...  \n",
      "8095     0.000000   0.050000    0.000000      0.0  \n",
      "8096     0.017647   0.038706    0.000000      0.0  \n",
      "8097     0.000000   0.023333    0.000000      0.0  \n",
      "8098     0.002118   0.018656    5.932009      1.0  \n",
      "8099     0.000000   0.011688   15.065863      1.0  \n",
      "\n",
      "[8093 rows x 10 columns]\n"
     ]
    }
   ],
   "source": [
    "#將無法進行標準化的特徵欄位先拿出來\n",
    "train_new = train_new.drop(train_new_cate, axis = 1)\n",
    "print(train_new)"
   ]
  },
  {
   "cell_type": "code",
   "execution_count": 13,
   "metadata": {},
   "outputs": [
    {
     "name": "stdout",
     "output_type": "stream",
     "text": [
      "             0         1         2         3         4             5  \\\n",
      "0     0.000000  0.000000  0.000000  0.000000  0.001418  0.000000e+00   \n",
      "1     0.000000  0.000000  0.000000  0.000000  0.001418  0.000000e+00   \n",
      "2     0.333333  0.088562  0.000000  0.000000  0.053901  4.652452e-06   \n",
      "3     0.074074  0.003923  0.000000  0.000000  0.148936  3.660109e-06   \n",
      "4     0.000000  0.000000  0.000000  0.000000  0.026950  3.911053e-07   \n",
      "...        ...       ...       ...       ...       ...           ...   \n",
      "8088  0.000000  0.000000  0.000000  0.000000  0.005674  1.437464e-07   \n",
      "8089  0.037037  0.004472  0.083333  0.024555  0.119149  8.769770e-06   \n",
      "8090  0.000000  0.000000  0.000000  0.000000  0.035461  1.245595e-06   \n",
      "8091  0.333333  0.054075  0.041667  0.035303  0.134752  5.938859e-06   \n",
      "8092  0.111111  0.014638  0.000000  0.000000  0.028369  9.714431e-07   \n",
      "\n",
      "             6         7         8    9  \n",
      "0     1.000000  1.000000  0.000000  0.0  \n",
      "1     1.000000  1.000000  0.000000  0.0  \n",
      "2     0.106060  0.222540  0.037232  0.0  \n",
      "3     0.061025  0.101380  0.000000  0.0  \n",
      "4     0.052630  0.123210  0.000000  0.0  \n",
      "...        ...       ...       ...  ...  \n",
      "8088  0.000000  0.250000  0.000000  0.0  \n",
      "8089  0.088235  0.193530  0.000000  0.0  \n",
      "8090  0.000000  0.116665  0.000000  0.0  \n",
      "8091  0.010590  0.093280  0.020601  1.0  \n",
      "8092  0.000000  0.058440  0.052320  1.0  \n",
      "\n",
      "[8093 rows x 10 columns]\n"
     ]
    }
   ],
   "source": [
    "#數值型變數做MAXMIN標準\n",
    "#使用標準化Min-Max套件\n",
    "min_max_scaler = preprocessing.MinMaxScaler(feature_range = (0,1))\n",
    "\n",
    "#對數據進行標準化\n",
    "train_new_min_max = min_max_scaler.fit_transform(train_new)\n",
    "\n",
    "#轉換為Data Frame格式\n",
    "train_new_min_max = pd.DataFrame(train_new_min_max)\n",
    "print(train_new_min_max)"
   ]
  },
  {
   "cell_type": "code",
   "execution_count": 14,
   "metadata": {},
   "outputs": [
    {
     "name": "stdout",
     "output_type": "stream",
     "text": [
      "             0         1         2         3         4             5  \\\n",
      "0     0.000000  0.000000  0.000000  0.000000  0.001418  0.000000e+00   \n",
      "1     0.000000  0.000000  0.000000  0.000000  0.001418  0.000000e+00   \n",
      "2     0.333333  0.088562  0.000000  0.000000  0.053901  4.652452e-06   \n",
      "3     0.074074  0.003923  0.000000  0.000000  0.148936  3.660109e-06   \n",
      "4     0.000000  0.000000  0.000000  0.000000  0.026950  3.911053e-07   \n",
      "...        ...       ...       ...       ...       ...           ...   \n",
      "8088  0.000000  0.000000  0.000000  0.000000  0.005674  1.437464e-07   \n",
      "8089  0.037037  0.004472  0.083333  0.024555  0.119149  8.769770e-06   \n",
      "8090  0.000000  0.000000  0.000000  0.000000  0.035461  1.245595e-06   \n",
      "8091  0.333333  0.054075  0.041667  0.035303  0.134752  5.938859e-06   \n",
      "8092  0.111111  0.014638  0.000000  0.000000  0.028369  9.714431e-07   \n",
      "\n",
      "             6         7         8    9  index  SpecialDay  Month  \\\n",
      "0     1.000000  1.000000  0.000000  0.0      0         0.4    2.0   \n",
      "1     1.000000  1.000000  0.000000  0.0      1         0.0    9.0   \n",
      "2     0.106060  0.222540  0.037232  0.0      2         0.0    8.0   \n",
      "3     0.061025  0.101380  0.000000  0.0      3         0.6    2.0   \n",
      "4     0.052630  0.123210  0.000000  0.0      4         0.0    2.0   \n",
      "...        ...       ...       ...  ...    ...         ...    ...   \n",
      "8088  0.000000  0.250000  0.000000  0.0   8095         0.4    2.0   \n",
      "8089  0.088235  0.193530  0.000000  0.0   8096         0.0    6.0   \n",
      "8090  0.000000  0.116665  0.000000  0.0   8097         0.0    6.0   \n",
      "8091  0.010590  0.093280  0.020601  1.0   8098         0.0    8.0   \n",
      "8092  0.000000  0.058440  0.052320  1.0   8099         0.0    8.0   \n",
      "\n",
      "      OperatingSystems  Browser  Region  TrafficType  VisitorType  Weekend  \n",
      "0                  3.0     11.0     3.0          7.0          2.0      0.0  \n",
      "1                  1.0     10.0     0.0          8.0          2.0      0.0  \n",
      "2                  1.0     10.0     0.0         14.0          2.0      0.0  \n",
      "3                  5.0     10.0     0.0          7.0          2.0      0.0  \n",
      "4                  1.0      1.0     0.0          7.0          2.0      0.0  \n",
      "...                ...      ...     ...          ...          ...      ...  \n",
      "8088               1.0      1.0     5.0          7.0          2.0      0.0  \n",
      "8089               3.0     11.0     1.0          8.0          2.0      0.0  \n",
      "8090               1.0     10.0     0.0          4.0          2.0      0.0  \n",
      "8091               5.0     10.0     5.0          4.0          2.0      0.0  \n",
      "8092               5.0     10.0     8.0          4.0          2.0      0.0  \n",
      "\n",
      "[8093 rows x 19 columns]\n",
      "             0         1         2         3         4             5  \\\n",
      "0     0.000000  0.000000  0.000000  0.000000  0.001418  0.000000e+00   \n",
      "1     0.000000  0.000000  0.000000  0.000000  0.001418  0.000000e+00   \n",
      "2     0.333333  0.088562  0.000000  0.000000  0.053901  4.652452e-06   \n",
      "3     0.074074  0.003923  0.000000  0.000000  0.148936  3.660109e-06   \n",
      "4     0.000000  0.000000  0.000000  0.000000  0.026950  3.911053e-07   \n",
      "...        ...       ...       ...       ...       ...           ...   \n",
      "8088  0.000000  0.000000  0.000000  0.000000  0.005674  1.437464e-07   \n",
      "8089  0.037037  0.004472  0.083333  0.024555  0.119149  8.769770e-06   \n",
      "8090  0.000000  0.000000  0.000000  0.000000  0.035461  1.245595e-06   \n",
      "8091  0.333333  0.054075  0.041667  0.035303  0.134752  5.938859e-06   \n",
      "8092  0.111111  0.014638  0.000000  0.000000  0.028369  9.714431e-07   \n",
      "\n",
      "             6         7         8    9  SpecialDay  Month  OperatingSystems  \\\n",
      "0     1.000000  1.000000  0.000000  0.0         0.4    2.0               3.0   \n",
      "1     1.000000  1.000000  0.000000  0.0         0.0    9.0               1.0   \n",
      "2     0.106060  0.222540  0.037232  0.0         0.0    8.0               1.0   \n",
      "3     0.061025  0.101380  0.000000  0.0         0.6    2.0               5.0   \n",
      "4     0.052630  0.123210  0.000000  0.0         0.0    2.0               1.0   \n",
      "...        ...       ...       ...  ...         ...    ...               ...   \n",
      "8088  0.000000  0.250000  0.000000  0.0         0.4    2.0               1.0   \n",
      "8089  0.088235  0.193530  0.000000  0.0         0.0    6.0               3.0   \n",
      "8090  0.000000  0.116665  0.000000  0.0         0.0    6.0               1.0   \n",
      "8091  0.010590  0.093280  0.020601  1.0         0.0    8.0               5.0   \n",
      "8092  0.000000  0.058440  0.052320  1.0         0.0    8.0               5.0   \n",
      "\n",
      "      Browser  Region  TrafficType  VisitorType  Weekend  \n",
      "0        11.0     3.0          7.0          2.0      0.0  \n",
      "1        10.0     0.0          8.0          2.0      0.0  \n",
      "2        10.0     0.0         14.0          2.0      0.0  \n",
      "3        10.0     0.0          7.0          2.0      0.0  \n",
      "4         1.0     0.0          7.0          2.0      0.0  \n",
      "...       ...     ...          ...          ...      ...  \n",
      "8088      1.0     5.0          7.0          2.0      0.0  \n",
      "8089     11.0     1.0          8.0          2.0      0.0  \n",
      "8090     10.0     0.0          4.0          2.0      0.0  \n",
      "8091     10.0     5.0          4.0          2.0      0.0  \n",
      "8092     10.0     8.0          4.0          2.0      0.0  \n",
      "\n",
      "[8093 rows x 18 columns]\n"
     ]
    }
   ],
   "source": [
    "#接回類別特徵資料\n",
    "train_scalar = pd.concat([train_new_min_max, train_new_cate_sort], axis = 1)\n",
    "print(train_scalar)\n",
    "#刪除index欄位\n",
    "train_scalar_new = train_scalar.drop('index', axis = 1)\n",
    "print(train_scalar_new)"
   ]
  },
  {
   "cell_type": "code",
   "execution_count": 15,
   "metadata": {},
   "outputs": [
    {
     "name": "stdout",
     "output_type": "stream",
     "text": [
      "             0         1         2         3         4             5  \\\n",
      "0     0.000000  0.000000  0.000000  0.000000  0.001418  0.000000e+00   \n",
      "1     0.000000  0.000000  0.000000  0.000000  0.001418  0.000000e+00   \n",
      "2     0.333333  0.088562  0.000000  0.000000  0.053901  4.652452e-06   \n",
      "3     0.074074  0.003923  0.000000  0.000000  0.148936  3.660109e-06   \n",
      "4     0.000000  0.000000  0.000000  0.000000  0.026950  3.911053e-07   \n",
      "...        ...       ...       ...       ...       ...           ...   \n",
      "8088  0.000000  0.000000  0.000000  0.000000  0.005674  1.437464e-07   \n",
      "8089  0.037037  0.004472  0.083333  0.024555  0.119149  8.769770e-06   \n",
      "8090  0.000000  0.000000  0.000000  0.000000  0.035461  1.245595e-06   \n",
      "8091  0.333333  0.054075  0.041667  0.035303  0.134752  5.938859e-06   \n",
      "8092  0.111111  0.014638  0.000000  0.000000  0.028369  9.714431e-07   \n",
      "\n",
      "             6         7         8    9  ...  TrafficType_13.0  \\\n",
      "0     1.000000  1.000000  0.000000  0.0  ...                 0   \n",
      "1     1.000000  1.000000  0.000000  0.0  ...                 0   \n",
      "2     0.106060  0.222540  0.037232  0.0  ...                 0   \n",
      "3     0.061025  0.101380  0.000000  0.0  ...                 0   \n",
      "4     0.052630  0.123210  0.000000  0.0  ...                 0   \n",
      "...        ...       ...       ...  ...  ...               ...   \n",
      "8088  0.000000  0.250000  0.000000  0.0  ...                 0   \n",
      "8089  0.088235  0.193530  0.000000  0.0  ...                 0   \n",
      "8090  0.000000  0.116665  0.000000  0.0  ...                 0   \n",
      "8091  0.010590  0.093280  0.020601  1.0  ...                 0   \n",
      "8092  0.000000  0.058440  0.052320  1.0  ...                 0   \n",
      "\n",
      "      TrafficType_14.0  TrafficType_15.0  TrafficType_16.0  TrafficType_17.0  \\\n",
      "0                    0                 0                 0                 0   \n",
      "1                    0                 0                 0                 0   \n",
      "2                    1                 0                 0                 0   \n",
      "3                    0                 0                 0                 0   \n",
      "4                    0                 0                 0                 0   \n",
      "...                ...               ...               ...               ...   \n",
      "8088                 0                 0                 0                 0   \n",
      "8089                 0                 0                 0                 0   \n",
      "8090                 0                 0                 0                 0   \n",
      "8091                 0                 0                 0                 0   \n",
      "8092                 0                 0                 0                 0   \n",
      "\n",
      "      TrafficType_18.0  TrafficType_19.0  VisitorType_0.0  VisitorType_1.0  \\\n",
      "0                    0                 0                0                0   \n",
      "1                    0                 0                0                0   \n",
      "2                    0                 0                0                0   \n",
      "3                    0                 0                0                0   \n",
      "4                    0                 0                0                0   \n",
      "...                ...               ...              ...              ...   \n",
      "8088                 0                 0                0                0   \n",
      "8089                 0                 0                0                0   \n",
      "8090                 0                 0                0                0   \n",
      "8091                 0                 0                0                0   \n",
      "8092                 0                 0                0                0   \n",
      "\n",
      "      VisitorType_2.0  \n",
      "0                   1  \n",
      "1                   1  \n",
      "2                   1  \n",
      "3                   1  \n",
      "4                   1  \n",
      "...               ...  \n",
      "8088                1  \n",
      "8089                1  \n",
      "8090                1  \n",
      "8091                1  \n",
      "8092                1  \n",
      "\n",
      "[8093 rows x 80 columns]\n"
     ]
    }
   ],
   "source": [
    "#類別變數預處理ONE HOT ENCODING\n",
    "data_dum = pd.get_dummies(train_scalar_new, columns = train_scalar_new.columns[10:17])\n",
    "print(data_dum)"
   ]
  },
  {
   "cell_type": "code",
   "execution_count": 16,
   "metadata": {},
   "outputs": [
    {
     "name": "stdout",
     "output_type": "stream",
     "text": [
      "             0         1         2         3         4             5  \\\n",
      "0     0.000000  0.000000  0.000000  0.000000  0.001418  0.000000e+00   \n",
      "1     0.000000  0.000000  0.000000  0.000000  0.001418  0.000000e+00   \n",
      "2     0.333333  0.088562  0.000000  0.000000  0.053901  4.652452e-06   \n",
      "3     0.074074  0.003923  0.000000  0.000000  0.148936  3.660109e-06   \n",
      "4     0.000000  0.000000  0.000000  0.000000  0.026950  3.911053e-07   \n",
      "...        ...       ...       ...       ...       ...           ...   \n",
      "8088  0.000000  0.000000  0.000000  0.000000  0.005674  1.437464e-07   \n",
      "8089  0.037037  0.004472  0.083333  0.024555  0.119149  8.769770e-06   \n",
      "8090  0.000000  0.000000  0.000000  0.000000  0.035461  1.245595e-06   \n",
      "8091  0.333333  0.054075  0.041667  0.035303  0.134752  5.938859e-06   \n",
      "8092  0.111111  0.014638  0.000000  0.000000  0.028369  9.714431e-07   \n",
      "\n",
      "             6         7         8  Weekend  ...  TrafficType_14.0  \\\n",
      "0     1.000000  1.000000  0.000000      0.0  ...                 0   \n",
      "1     1.000000  1.000000  0.000000      0.0  ...                 0   \n",
      "2     0.106060  0.222540  0.037232      0.0  ...                 1   \n",
      "3     0.061025  0.101380  0.000000      0.0  ...                 0   \n",
      "4     0.052630  0.123210  0.000000      0.0  ...                 0   \n",
      "...        ...       ...       ...      ...  ...               ...   \n",
      "8088  0.000000  0.250000  0.000000      0.0  ...                 0   \n",
      "8089  0.088235  0.193530  0.000000      0.0  ...                 0   \n",
      "8090  0.000000  0.116665  0.000000      0.0  ...                 0   \n",
      "8091  0.010590  0.093280  0.020601      0.0  ...                 0   \n",
      "8092  0.000000  0.058440  0.052320      0.0  ...                 0   \n",
      "\n",
      "      TrafficType_15.0  TrafficType_16.0  TrafficType_17.0  TrafficType_18.0  \\\n",
      "0                    0                 0                 0                 0   \n",
      "1                    0                 0                 0                 0   \n",
      "2                    0                 0                 0                 0   \n",
      "3                    0                 0                 0                 0   \n",
      "4                    0                 0                 0                 0   \n",
      "...                ...               ...               ...               ...   \n",
      "8088                 0                 0                 0                 0   \n",
      "8089                 0                 0                 0                 0   \n",
      "8090                 0                 0                 0                 0   \n",
      "8091                 0                 0                 0                 0   \n",
      "8092                 0                 0                 0                 0   \n",
      "\n",
      "      TrafficType_19.0  VisitorType_0.0  VisitorType_1.0  VisitorType_2.0    9  \n",
      "0                    0                0                0                1  0.0  \n",
      "1                    0                0                0                1  0.0  \n",
      "2                    0                0                0                1  0.0  \n",
      "3                    0                0                0                1  0.0  \n",
      "4                    0                0                0                1  0.0  \n",
      "...                ...              ...              ...              ...  ...  \n",
      "8088                 0                0                0                1  0.0  \n",
      "8089                 0                0                0                1  0.0  \n",
      "8090                 0                0                0                1  0.0  \n",
      "8091                 0                0                0                1  1.0  \n",
      "8092                 0                0                0                1  1.0  \n",
      "\n",
      "[8093 rows x 80 columns]\n"
     ]
    }
   ],
   "source": [
    "#將Revenue[9]移動到最後一欄\n",
    "move_col = data_dum.pop(data_dum.columns[9])\n",
    "data_dum.insert(79, move_col.name, move_col)\n",
    "print(data_dum)"
   ]
  },
  {
   "cell_type": "code",
   "execution_count": 17,
   "metadata": {},
   "outputs": [],
   "source": [
    "data_dum.to_csv(r'C:\\Users\\88691\\PycharmProjects\\hotel_predit\\data-question\\555555.csv', index = False)"
   ]
  },
  {
   "cell_type": "code",
   "execution_count": 18,
   "metadata": {},
   "outputs": [
    {
     "name": "stdout",
     "output_type": "stream",
     "text": [
      "        9\n",
      "0     0.0\n",
      "1     0.0\n",
      "2     0.0\n",
      "3     0.0\n",
      "4     0.0\n",
      "...   ...\n",
      "8088  0.0\n",
      "8089  0.0\n",
      "8090  0.0\n",
      "8091  1.0\n",
      "8092  1.0\n",
      "\n",
      "[8093 rows x 1 columns]\n"
     ]
    }
   ],
   "source": [
    "#PCA\n",
    "#將trainLabels欄位數據獨立出來\n",
    "data_dum_new = data_dum.iloc[:, 79:]\n",
    "print(data_dum_new)"
   ]
  },
  {
   "cell_type": "code",
   "execution_count": 19,
   "metadata": {},
   "outputs": [
    {
     "name": "stdout",
     "output_type": "stream",
     "text": [
      "             0         1         2         3         4             5  \\\n",
      "0     0.000000  0.000000  0.000000  0.000000  0.001418  0.000000e+00   \n",
      "1     0.000000  0.000000  0.000000  0.000000  0.001418  0.000000e+00   \n",
      "2     0.333333  0.088562  0.000000  0.000000  0.053901  4.652452e-06   \n",
      "3     0.074074  0.003923  0.000000  0.000000  0.148936  3.660109e-06   \n",
      "4     0.000000  0.000000  0.000000  0.000000  0.026950  3.911053e-07   \n",
      "...        ...       ...       ...       ...       ...           ...   \n",
      "8088  0.000000  0.000000  0.000000  0.000000  0.005674  1.437464e-07   \n",
      "8089  0.037037  0.004472  0.083333  0.024555  0.119149  8.769770e-06   \n",
      "8090  0.000000  0.000000  0.000000  0.000000  0.035461  1.245595e-06   \n",
      "8091  0.333333  0.054075  0.041667  0.035303  0.134752  5.938859e-06   \n",
      "8092  0.111111  0.014638  0.000000  0.000000  0.028369  9.714431e-07   \n",
      "\n",
      "             6         7         8  Weekend  ...  TrafficType_13.0  \\\n",
      "0     1.000000  1.000000  0.000000      0.0  ...                 0   \n",
      "1     1.000000  1.000000  0.000000      0.0  ...                 0   \n",
      "2     0.106060  0.222540  0.037232      0.0  ...                 0   \n",
      "3     0.061025  0.101380  0.000000      0.0  ...                 0   \n",
      "4     0.052630  0.123210  0.000000      0.0  ...                 0   \n",
      "...        ...       ...       ...      ...  ...               ...   \n",
      "8088  0.000000  0.250000  0.000000      0.0  ...                 0   \n",
      "8089  0.088235  0.193530  0.000000      0.0  ...                 0   \n",
      "8090  0.000000  0.116665  0.000000      0.0  ...                 0   \n",
      "8091  0.010590  0.093280  0.020601      0.0  ...                 0   \n",
      "8092  0.000000  0.058440  0.052320      0.0  ...                 0   \n",
      "\n",
      "      TrafficType_14.0  TrafficType_15.0  TrafficType_16.0  TrafficType_17.0  \\\n",
      "0                    0                 0                 0                 0   \n",
      "1                    0                 0                 0                 0   \n",
      "2                    1                 0                 0                 0   \n",
      "3                    0                 0                 0                 0   \n",
      "4                    0                 0                 0                 0   \n",
      "...                ...               ...               ...               ...   \n",
      "8088                 0                 0                 0                 0   \n",
      "8089                 0                 0                 0                 0   \n",
      "8090                 0                 0                 0                 0   \n",
      "8091                 0                 0                 0                 0   \n",
      "8092                 0                 0                 0                 0   \n",
      "\n",
      "      TrafficType_18.0  TrafficType_19.0  VisitorType_0.0  VisitorType_1.0  \\\n",
      "0                    0                 0                0                0   \n",
      "1                    0                 0                0                0   \n",
      "2                    0                 0                0                0   \n",
      "3                    0                 0                0                0   \n",
      "4                    0                 0                0                0   \n",
      "...                ...               ...              ...              ...   \n",
      "8088                 0                 0                0                0   \n",
      "8089                 0                 0                0                0   \n",
      "8090                 0                 0                0                0   \n",
      "8091                 0                 0                0                0   \n",
      "8092                 0                 0                0                0   \n",
      "\n",
      "      VisitorType_2.0  \n",
      "0                   1  \n",
      "1                   1  \n",
      "2                   1  \n",
      "3                   1  \n",
      "4                   1  \n",
      "...               ...  \n",
      "8088                1  \n",
      "8089                1  \n",
      "8090                1  \n",
      "8091                1  \n",
      "8092                1  \n",
      "\n",
      "[8093 rows x 79 columns]\n"
     ]
    }
   ],
   "source": [
    "#將data_dumg刪去rainLabels欄位\n",
    "data_dum_new_ta = data_dum.drop(data_dum_new, axis = 1)\n",
    "print(data_dum_new_ta)"
   ]
  },
  {
   "cell_type": "code",
   "execution_count": 20,
   "metadata": {},
   "outputs": [],
   "source": [
    "# 特徵值偏多，樣本數不足時，可利用PCA方法來萃取有效特徵值。\n",
    "pca = PCA(n_components = 0.85) #萃取保留K%資訊或'mle'MLE算法自己選擇降維維度\n",
    "pca_train = pca.fit_transform(data_dum_new_ta)\n",
    "#pca_test = pca.fit_transform(test)"
   ]
  },
  {
   "cell_type": "code",
   "execution_count": 21,
   "metadata": {},
   "outputs": [
    {
     "name": "stdout",
     "output_type": "stream",
     "text": [
      "[0.12658156 0.08476621 0.07375504 0.06741326 0.0638187  0.04914672\n",
      " 0.04324905 0.04241555 0.03739048 0.0339994  0.03222523 0.02654224\n",
      " 0.02517565 0.02180857 0.02138575 0.01723761 0.01721288 0.01491298\n",
      " 0.01449103 0.01372321 0.01191392 0.01117616]\n",
      "[0.55005417 0.36834753 0.32049903 0.29294111 0.27732112 0.21356472\n",
      " 0.1879367  0.18431474 0.16247854 0.14774276 0.14003322 0.11533806\n",
      " 0.10939958 0.09476813 0.09293077 0.07490523 0.07479775 0.06480364\n",
      " 0.0629701  0.05963355 0.05177137 0.04856549]\n",
      "22\n"
     ]
    }
   ],
   "source": [
    "#主成分解釋\n",
    "explained_variance = pca.explained_variance_ratio_\n",
    "print(explained_variance)\n",
    "print(pca.explained_variance_) \n",
    "print(pca.n_components_)"
   ]
  },
  {
   "cell_type": "code",
   "execution_count": 22,
   "metadata": {},
   "outputs": [
    {
     "name": "stdout",
     "output_type": "stream",
     "text": [
      "            0         1         2         3         4         5         6   \\\n",
      "0     0.791464 -1.207615 -0.493063  0.384353  0.560003 -0.195934 -0.043486   \n",
      "1    -0.601990 -0.309005 -0.059286 -0.762163 -0.650161  0.590770 -0.255161   \n",
      "2    -0.625240  0.165967  0.133467 -0.832331 -0.247617 -0.639611  0.391632   \n",
      "3    -0.232416 -1.085912  0.499071 -0.420004  1.235632 -0.057429 -0.160010   \n",
      "4    -0.146117 -0.520378 -0.970008 -0.600099  0.432895 -0.093843  0.048176   \n",
      "...        ...       ...       ...       ...       ...       ...       ...   \n",
      "8088 -0.235203 -0.833750 -1.164775  0.370029  0.487431 -0.225767  0.056022   \n",
      "8089  0.784300 -0.376129 -0.064363  0.231982 -0.723694  0.378918 -0.047107   \n",
      "8090 -0.584181  0.565198 -0.196254 -0.641218  0.165954 -0.147716 -0.596505   \n",
      "8091 -0.202234  0.483606  1.117002  0.337810  0.095034 -0.682674 -0.266336   \n",
      "8092 -0.195551  0.494755  1.122261  0.262431  0.123181 -0.683004 -0.266497   \n",
      "\n",
      "            7         8         9   ...        12        13        14  \\\n",
      "0    -0.090132 -0.455521 -0.321225  ...  0.319188  0.714072  0.822161   \n",
      "1    -0.273839 -0.592769  0.111146  ...  0.777042  0.440558  0.503491   \n",
      "2    -0.173784 -0.178325  0.001025  ... -0.159772  0.207037  0.282016   \n",
      "3    -0.042161 -0.389951  0.204621  ... -0.420502 -0.027828 -0.015471   \n",
      "4     0.175477 -0.194413  0.168152  ... -0.791811  0.068253  0.393525   \n",
      "...        ...       ...       ...  ...       ...       ...       ...   \n",
      "8088  0.158889 -0.254153 -0.378503  ... -0.504914  0.633434 -0.221760   \n",
      "8089 -0.037151 -0.613568 -0.267533  ... -0.104512 -0.079061 -0.143060   \n",
      "8090 -0.117383  0.056872  0.068278  ... -0.129954 -0.057618  0.078820   \n",
      "8091 -0.242728 -0.142061 -0.541952  ... -0.119057  0.429458 -0.620374   \n",
      "8092 -0.280081 -0.164565 -0.284033  ... -0.044759 -0.095531 -0.193709   \n",
      "\n",
      "            15        16        17        18        19        20        21  \n",
      "0     0.071614  0.518863  0.465638 -1.004194  0.016722 -0.295022 -0.071476  \n",
      "1    -0.146029 -0.167572 -0.078833 -0.170955 -0.202375  0.045402 -0.035513  \n",
      "2     0.373994  0.038411 -0.068903  0.448178  0.399564  0.029784 -0.191241  \n",
      "3     0.343722  0.130345  0.467612 -0.381066 -0.524584 -0.061365  0.066455  \n",
      "4    -0.140102 -0.095367 -0.269386 -0.234492 -0.239570 -0.324736  0.086211  \n",
      "...        ...       ...       ...       ...       ...       ...       ...  \n",
      "8088  0.415845 -0.272763  0.416576 -0.254588 -0.508209 -0.376205  0.060832  \n",
      "8089 -0.551495  0.556782  0.132317  0.626791 -0.172779 -0.452625  0.071111  \n",
      "8090 -0.312558 -0.128155  0.291902  0.196875  0.142561 -0.059693  0.105058  \n",
      "8091 -0.064360 -0.387589  0.016781 -0.096279 -0.158931 -0.052947 -0.056281  \n",
      "8092 -0.140672  0.174789 -0.021700 -0.147843 -0.089309  0.001124  0.144813  \n",
      "\n",
      "[8093 rows x 22 columns]\n"
     ]
    }
   ],
   "source": [
    "train = pd.DataFrame(pca_train)\n",
    "#test = pd.DataFrame(pca.transform(test))\n",
    "print(train)"
   ]
  },
  {
   "cell_type": "code",
   "execution_count": 23,
   "metadata": {},
   "outputs": [
    {
     "name": "stdout",
     "output_type": "stream",
     "text": [
      "(5665, 22) (2428, 22) (5665, 1) (2428, 1)\n"
     ]
    }
   ],
   "source": [
    "#訓練模型\n",
    "# 利用萃取特徵值的data，分配train資料集再建模\n",
    "X_train,X_test,y_train,y_test = train_test_split(train,data_dum_new,test_size=0.30, random_state=101)\n",
    "print(X_train.shape,X_test.shape,y_train.shape,y_test.shape)"
   ]
  },
  {
   "cell_type": "code",
   "execution_count": 24,
   "metadata": {},
   "outputs": [],
   "source": [
    "# 利用StratifiedKFold做交叉驗證，相較於KFold，StratifiedKFold會照比例每個data set中抽取資料作驗證\n",
    "sk_fold = StratifiedKFold(10, shuffle=True, random_state=42)"
   ]
  },
  {
   "cell_type": "code",
   "execution_count": 25,
   "metadata": {},
   "outputs": [],
   "source": [
    "#模型訓練器\n",
    "g_nb = GaussianNB()\n",
    "knn = KNeighborsClassifier()  # 參數:n_neighbors(鄰居數:預設為5)、weights(權重,預設為uniform)、leaf_size(葉的大小:預設為30)\n",
    "ran_for = RandomForestClassifier()\n",
    "# n_estimators:樹的顆數、max_depth:最大深度，剪枝用，超過全部剪掉。\n",
    "# min_samples_leaf:搭配max_depth使用，一個節點在分枝後每個子節點都必須包含至少min_samples_leaf個訓練樣本\n",
    "# bootstrap:重新取樣原有Data產生新的Data，取樣的過程是均勻且可以重複取樣\n",
    "log_reg = LogisticRegression()  #penalty:懲罰函數(預設L2)、Ｃ:正則強度倒數，預設為1.0、solver:解決器(默認='lbfgs')，saga對所有懲罰都可以使用\n",
    "svc = SVC() # kernel:核函數、gamma:“ rbf”，“ poly”和“ Sigmoid”的核係數。,C:正則化的強度與C成反比。必須嚴格為正\n",
    "tree = DecisionTreeClassifier()\n",
    "xgb = XGBClassifier()  # https://www.itread01.com/content/1536594984.html 參數詳解\n",
    "ada_boost = AdaBoostClassifier()  # https://ask.hellobi.com/blog/zhangjunhong0428/12405 參數詳解\n",
    "grad_boost = GradientBoostingClassifier(n_estimators=100)  # https://www.itread01.com/content/1514358146.html 參數詳解\n",
    "hist_grad_boost = HistGradientBoostingClassifier()  # https://scikit-learn.org/stable/modules/generated/sklearn.ensemble.HistGradientBoostingClassifier.html"
   ]
  },
  {
   "cell_type": "code",
   "execution_count": 26,
   "metadata": {},
   "outputs": [],
   "source": [
    "#訓練模型之參數設定\n",
    "clf = [(\"Naive Bayes\", g_nb, {}), \\\n",
    "       (\"K Nearest\", knn, {\"n_neighbors\": [3, 5, 6, 7, 8, 9, 10], \"leaf_size\": [25, 30, 35]}), \\\n",
    "       (\"Random Forest\", ran_for,\n",
    "        {\"n_estimators\": [10, 50, 100, 200, 400], \"max_depth\": [3, 10, 20, 40], \"random_state\": [99],\n",
    "         \"min_samples_leaf\": [5, 10, 20, 40, 50], \"bootstrap\": [False]}), \\\n",
    "       (\"Logistic Regression\", log_reg, {\"penalty\": ['l2'], \"C\": [100, 10, 1.0, 0.1, 0.01], \"solver\": ['saga']}), \\\n",
    "       (\"Support Vector\", svc,\n",
    "        {\"kernel\": [\"linear\", \"rbf\"], \"gamma\": [0.05, 0.0001, 0.01, 0.001], \"C\": [0.1, 1, 10, 100, 1000]},), \\\n",
    " \\\n",
    "       (\"Decision Tree\", tree, {}), \\\n",
    "       (\"XGBoost\", xgb,\n",
    "        {\"n_estimators\": [200], \"max_depth\": [3, 4, 5], \"learning_rate\": [.01, .1, .2], \"subsample\": [.8],\n",
    "         \"colsample_bytree\": [1], \"gamma\": [0, 1, 5], \"lambda\": [.01, .1, 1]}), \\\n",
    " \\\n",
    "       (\"Adapative Boost\", ada_boost, {\"n_estimators\": [100], \"learning_rate\": [.6, .8, 1]}), \\\n",
    "       (\"Gradient Boost\", grad_boost, {}), \\\n",
    " \\\n",
    "       (\"Histogram GB\", hist_grad_boost,\n",
    "        {\"loss\": [\"binary_crossentropy\"], \"min_samples_leaf\": [5, 10, 20, 40, 50], \"l2_regularization\": [0, .1, 1]})]"
   ]
  },
  {
   "cell_type": "code",
   "execution_count": 27,
   "metadata": {},
   "outputs": [],
   "source": [
    "#創建stack_list儲存模型Train Score與Test Score\n",
    "stack_list = []\n",
    "#創建Evaluation儲存模型儲存Train Score, Test Score(Accuracy), Precision, Sensitivity, Specificity, F1_score\n",
    "train_scores = pd.DataFrame(columns = [\"Name\", \"Train Score\", \"Test Score(Accuracy)\", \"Precision\", \"Sensitivity\", \"Specificity\", \"F1_score\"])"
   ]
  },
  {
   "cell_type": "code",
   "execution_count": 28,
   "metadata": {},
   "outputs": [],
   "source": [
    "# 計算建立模型的時間(起點)\n",
    "start = time.time()"
   ]
  },
  {
   "cell_type": "code",
   "execution_count": 29,
   "metadata": {},
   "outputs": [
    {
     "name": "stdout",
     "output_type": "stream",
     "text": [
      "[[1844  217]\n",
      " [ 279   88]]\n",
      "=====================================\n",
      "[[2030   31]\n",
      " [ 351   16]]\n",
      "=====================================\n",
      "[[2044   17]\n",
      " [ 362    5]]\n",
      "=====================================\n",
      "[[2051   10]\n",
      " [ 355   12]]\n",
      "=====================================\n",
      "[[2061    0]\n",
      " [ 367    0]]\n",
      "=====================================\n",
      "[[1736  325]\n",
      " [ 279   88]]\n",
      "=====================================\n",
      "[02:08:47] WARNING: C:/Users/Administrator/workspace/xgboost-win64_release_1.3.0/src/learner.cc:1061: Starting in XGBoost 1.3.0, the default evaluation metric used with the objective 'binary:logistic' was changed from 'error' to 'logloss'. Explicitly set eval_metric if you'd like to restore the old behavior.\n",
      "[[2022   39]\n",
      " [ 342   25]]\n",
      "=====================================\n",
      "[[2040   21]\n",
      " [ 358    9]]\n",
      "=====================================\n",
      "[[2022   39]\n",
      " [ 356   11]]\n",
      "=====================================\n",
      "[[1974   87]\n",
      " [ 330   37]]\n",
      "=====================================\n"
     ]
    }
   ],
   "source": [
    "#利用GridSearchCV自動優化參數\n",
    "i = 0\n",
    "for name, clf1, param_grid in clf:\n",
    "    clf = GridSearchCV(clf1, param_grid=param_grid, scoring=\"accuracy\", cv=sk_fold, return_train_score=True, n_jobs=7) #啟用7核心加速運算\n",
    "    clf.fit(X_train, y_train.values.ravel())\n",
    "    y_pred = clf.best_estimator_.predict(X_test)\n",
    "\n",
    "    cm = confusion_matrix(y_test, y_pred)\n",
    "    print(cm)\n",
    "    print(\"=====================================\")\n",
    "    #儲存Train Score, Test Score(Accuracy), Precision, Sensitivity, Specificity, F1_score到train_scores dataframe中\n",
    "    train_scores.loc[i] = [name, clf.best_score_, (cm[0, 0] + cm[1, 1]) / (cm[0, 0] + cm[0, 1] + cm[1, 0] + cm[1, 1]),\n",
    "                               (cm[0, 0] / (cm[0, 0] + cm[0, 1])), (cm[0, 0] / (cm[0, 0] + cm[1, 1])),\n",
    "                               (cm[1, 1] / (cm[1, 1] + cm[0, 1])),\n",
    "                               ((2 * cm[0, 0]) / (2 * cm[0, 0] + cm[1, 0] + cm[0, 1]))]\n",
    "    stack_list.append(clf.best_estimator_)\n",
    "    i = i + 1\n",
    "\n",
    "est = [(\"g_nb\",stack_list[0]),\\\n",
    "       (\"knn\",stack_list[1]),\\\n",
    "       (\"ran_for\",stack_list[2]),\\\n",
    "       (\"log_reg\",stack_list[3]),\\\n",
    "       (\"svc\",stack_list[4]),\\\n",
    "       (\"dec_tree\",stack_list[5]),\\\n",
    "       (\"XGBoost\",stack_list[6]),\\\n",
    "       (\"ada_boost\",stack_list[7]),\\\n",
    "       (\"grad_boost\",stack_list[8]),\\\n",
    "       (\"hist_grad_boost\",stack_list[9])]"
   ]
  },
  {
   "cell_type": "code",
   "execution_count": 30,
   "metadata": {},
   "outputs": [
    {
     "name": "stdout",
     "output_type": "stream",
     "text": [
      "[02:09:43] WARNING: C:/Users/Administrator/workspace/xgboost-win64_release_1.3.0/src/learner.cc:1061: Starting in XGBoost 1.3.0, the default evaluation metric used with the objective 'binary:logistic' was changed from 'error' to 'logloss'. Explicitly set eval_metric if you'd like to restore the old behavior.\n",
      "[02:09:52] WARNING: C:/Users/Administrator/workspace/xgboost-win64_release_1.3.0/src/learner.cc:1061: Starting in XGBoost 1.3.0, the default evaluation metric used with the objective 'binary:logistic' was changed from 'error' to 'logloss'. Explicitly set eval_metric if you'd like to restore the old behavior.\n",
      "[02:09:52] WARNING: C:/Users/Administrator/workspace/xgboost-win64_release_1.3.0/src/learner.cc:1061: Starting in XGBoost 1.3.0, the default evaluation metric used with the objective 'binary:logistic' was changed from 'error' to 'logloss'. Explicitly set eval_metric if you'd like to restore the old behavior.\n",
      "[02:09:52] WARNING: C:/Users/Administrator/workspace/xgboost-win64_release_1.3.0/src/learner.cc:1061: Starting in XGBoost 1.3.0, the default evaluation metric used with the objective 'binary:logistic' was changed from 'error' to 'logloss'. Explicitly set eval_metric if you'd like to restore the old behavior.\n",
      "[02:09:53] WARNING: C:/Users/Administrator/workspace/xgboost-win64_release_1.3.0/src/learner.cc:1061: Starting in XGBoost 1.3.0, the default evaluation metric used with the objective 'binary:logistic' was changed from 'error' to 'logloss'. Explicitly set eval_metric if you'd like to restore the old behavior.\n",
      "[02:09:53] WARNING: C:/Users/Administrator/workspace/xgboost-win64_release_1.3.0/src/learner.cc:1061: Starting in XGBoost 1.3.0, the default evaluation metric used with the objective 'binary:logistic' was changed from 'error' to 'logloss'. Explicitly set eval_metric if you'd like to restore the old behavior.\n",
      "[02:09:53] WARNING: C:/Users/Administrator/workspace/xgboost-win64_release_1.3.0/src/learner.cc:1061: Starting in XGBoost 1.3.0, the default evaluation metric used with the objective 'binary:logistic' was changed from 'error' to 'logloss'. Explicitly set eval_metric if you'd like to restore the old behavior.\n",
      "[02:09:54] WARNING: C:/Users/Administrator/workspace/xgboost-win64_release_1.3.0/src/learner.cc:1061: Starting in XGBoost 1.3.0, the default evaluation metric used with the objective 'binary:logistic' was changed from 'error' to 'logloss'. Explicitly set eval_metric if you'd like to restore the old behavior.\n",
      "[02:09:54] WARNING: C:/Users/Administrator/workspace/xgboost-win64_release_1.3.0/src/learner.cc:1061: Starting in XGBoost 1.3.0, the default evaluation metric used with the objective 'binary:logistic' was changed from 'error' to 'logloss'. Explicitly set eval_metric if you'd like to restore the old behavior.\n",
      "[02:09:54] WARNING: C:/Users/Administrator/workspace/xgboost-win64_release_1.3.0/src/learner.cc:1061: Starting in XGBoost 1.3.0, the default evaluation metric used with the objective 'binary:logistic' was changed from 'error' to 'logloss'. Explicitly set eval_metric if you'd like to restore the old behavior.\n",
      "[02:09:55] WARNING: C:/Users/Administrator/workspace/xgboost-win64_release_1.3.0/src/learner.cc:1061: Starting in XGBoost 1.3.0, the default evaluation metric used with the objective 'binary:logistic' was changed from 'error' to 'logloss'. Explicitly set eval_metric if you'd like to restore the old behavior.\n",
      "                   Name  Train Score  Test Score(Accuracy)  Precision  \\\n",
      "0           Naive Bayes     0.795063              0.795717   0.894711   \n",
      "1             K Nearest     0.837245              0.842669   0.984959   \n",
      "2         Random Forest     0.840599              0.843904   0.991752   \n",
      "3   Logistic Regression     0.840601              0.849671   0.995148   \n",
      "4        Support Vector     0.839364              0.848847   1.000000   \n",
      "5         Decision Tree     0.760988              0.751236   0.842310   \n",
      "6               XGBoost     0.841129              0.843081   0.981077   \n",
      "7       Adapative Boost     0.836008              0.843904   0.989811   \n",
      "8        Gradient Boost     0.838127              0.837315   0.981077   \n",
      "9          Histogram GB     0.830361              0.828254   0.957787   \n",
      "10             Stacking     0.854898              0.846787   0.984959   \n",
      "\n",
      "    Sensitivity  Specificity  F1_score  \n",
      "0      0.954451     0.288525  0.881453  \n",
      "1      0.992180     0.340426  0.914003  \n",
      "2      0.997560     0.227273  0.915156  \n",
      "3      0.994183     0.545455  0.918290  \n",
      "4      1.000000          NaN  0.918245  \n",
      "5      0.951754     0.213075  0.851816  \n",
      "6      0.987787     0.390625  0.913898  \n",
      "7      0.995608     0.300000  0.915003  \n",
      "8      0.994589     0.220000  0.911016  \n",
      "9      0.981601     0.298387  0.904467  \n",
      "10     0.987354     0.456140  0.916065  \n"
     ]
    }
   ],
   "source": [
    "#集成學習\n",
    "sc = StackingClassifier(estimators=est,final_estimator = None,cv=sk_fold,passthrough=False)\n",
    "sc.fit(X_train,y_train)\n",
    "y_pred = sc.predict(X_test)\n",
    "cm1 = confusion_matrix(y_test,y_pred)\n",
    "y_pred_train = sc.predict(X_train)\n",
    "cm2 = confusion_matrix(y_train,y_pred_train)\n",
    "stacking = pd.Series([\"Stacking\",(cm2[0,0]+cm2[1,1])/(cm2[0,0]+cm2[0,1]+cm2[1,0]+cm2[1,1]), (cm1[0, 0] + cm1[1, 1]) / (cm1[0, 0] + cm1[0, 1] + cm1[1, 0] + cm1[1, 1]),\n",
    "                           (cm1[0, 0] / (cm1[0, 0] + cm1[0, 1])), (cm1[0, 0] / (cm1[0, 0] + cm1[1, 1])),\n",
    "                           (cm1[1, 1] / (cm1[1, 1] + cm1[0, 1])), ((2 * cm1[0, 0]) / (2 * cm1[0, 0] + cm1[1, 0] + cm1[0, 1]))],\n",
    "              index=[\"Name\", \"Train Score\", \"Test Score(Accuracy)\", \"Precision\", \"Sensitivity\", \"Specificity\", \"F1_score\"])\n",
    "train_scores = train_scores.append(stacking, ignore_index=True)\n",
    "print(train_scores)"
   ]
  },
  {
   "cell_type": "code",
   "execution_count": 31,
   "metadata": {},
   "outputs": [
    {
     "name": "stdout",
     "output_type": "stream",
     "text": [
      "一共花費了2.0小時59.0分鐘35秒\n"
     ]
    }
   ],
   "source": [
    "# 計算建立模型的時間(終點)\n",
    "end = time.time()\n",
    "spend = end - start\n",
    "hour = spend // 3600\n",
    "minu = (spend - 3600 * hour) // 60\n",
    "sec = int(spend - 3600 * hour - 60 * minu)\n",
    "print(f'一共花費了{hour}小時{minu}分鐘{sec}秒')"
   ]
  }
 ],
 "metadata": {
  "kernelspec": {
   "display_name": "Python 3",
   "language": "python",
   "name": "python3"
  },
  "language_info": {
   "codemirror_mode": {
    "name": "ipython",
    "version": 3
   },
   "file_extension": ".py",
   "mimetype": "text/x-python",
   "name": "python",
   "nbconvert_exporter": "python",
   "pygments_lexer": "ipython3",
   "version": "3.8.3"
  }
 },
 "nbformat": 4,
 "nbformat_minor": 4
}
